{
  "nbformat": 4,
  "nbformat_minor": 0,
  "metadata": {
    "colab": {
      "name": "anekdoty.ipynb",
      "provenance": []
    },
    "kernelspec": {
      "name": "python3",
      "display_name": "Python 3"
    },
    "language_info": {
      "name": "python"
    }
  },
  "cells": [
    {
      "cell_type": "code",
      "execution_count": null,
      "metadata": {
        "id": "hTijVctU-v4z"
      },
      "outputs": [],
      "source": [
        "with open('250husband.txt', encoding='utf-8') as f:\n",
        "    husbands = f.read()"
      ]
    },
    {
      "cell_type": "code",
      "source": [
        "import re"
      ],
      "metadata": {
        "id": "1KQMs9dPAIa9"
      },
      "execution_count": null,
      "outputs": []
    },
    {
      "cell_type": "code",
      "source": [
        "hus = husbands.split('* * *')"
      ],
      "metadata": {
        "id": "azqI-d5n_oD9"
      },
      "execution_count": null,
      "outputs": []
    },
    {
      "cell_type": "code",
      "source": [
        "len(hus)"
      ],
      "metadata": {
        "colab": {
          "base_uri": "https://localhost:8080/"
        },
        "id": "E_5BsTaEAMo7",
        "outputId": "79742d62-68a1-4987-877e-07ed345c0583"
      },
      "execution_count": null,
      "outputs": [
        {
          "output_type": "execute_result",
          "data": {
            "text/plain": [
              "264"
            ]
          },
          "metadata": {},
          "execution_count": 10
        }
      ]
    },
    {
      "cell_type": "code",
      "source": [
        "hus2 = []\n",
        "for i in hus:\n",
        "    hus2.append(i.strip())"
      ],
      "metadata": {
        "id": "gUAWedwoAccD"
      },
      "execution_count": null,
      "outputs": []
    },
    {
      "cell_type": "code",
      "source": [
        "newfile = '\\nsep\\n'.join(hus2)"
      ],
      "metadata": {
        "id": "9P0yQuWqAr89"
      },
      "execution_count": null,
      "outputs": []
    },
    {
      "cell_type": "code",
      "source": [
        "with open('all_anecs.txt', 'a', encoding='utf-8') as f:\n",
        "    f.write(newfile)\n",
        "    f.write('\\nsep\\n')"
      ],
      "metadata": {
        "id": "JKa7nIe7A4LJ"
      },
      "execution_count": null,
      "outputs": []
    },
    {
      "cell_type": "code",
      "source": [
        "with open('500lover.txt', encoding='utf-8') as f:\n",
        "    text = f.read()\n",
        "anecs = text.split('* * *')\n",
        "print(len(anecs))\n",
        "anecs2 = []\n",
        "for i in anecs:\n",
        "    anecs2.append(i.strip())\n",
        "newfile = '\\nsep\\n'.join(anecs2)"
      ],
      "metadata": {
        "colab": {
          "base_uri": "https://localhost:8080/"
        },
        "id": "CafLawCwBM5U",
        "outputId": "6add0bfa-dd01-4b2e-ff89-89068895e230"
      },
      "execution_count": null,
      "outputs": [
        {
          "output_type": "stream",
          "name": "stdout",
          "text": [
            "423\n"
          ]
        }
      ]
    },
    {
      "cell_type": "code",
      "source": [
        "with open('all_anecs.txt', 'a', encoding='utf-8') as f:\n",
        "    f.write(newfile)\n",
        "    f.write('\\nsep\\n')"
      ],
      "metadata": {
        "id": "IT_TMBAbBsPD"
      },
      "execution_count": null,
      "outputs": []
    },
    {
      "cell_type": "code",
      "source": [
        "with open('500menty.txt', encoding='utf-8') as f:\n",
        "    text = f.read()\n",
        "anecs = text.split('* * *')\n",
        "print(len(anecs))\n",
        "anecs2 = []\n",
        "for i in anecs:\n",
        "    anecs2.append(i.strip())\n",
        "newfile = '\\nsep\\n'.join(anecs2)"
      ],
      "metadata": {
        "colab": {
          "base_uri": "https://localhost:8080/"
        },
        "id": "_39MuS-uCAI6",
        "outputId": "b7991b5a-f997-45e7-bc82-c9cb100bb032"
      },
      "execution_count": null,
      "outputs": [
        {
          "output_type": "stream",
          "name": "stdout",
          "text": [
            "563\n"
          ]
        }
      ]
    },
    {
      "cell_type": "code",
      "source": [
        "with open('all_anecs.txt', 'a', encoding='utf-8') as f:\n",
        "    f.write(newfile)\n",
        "    f.write('\\nsep\\n')"
      ],
      "metadata": {
        "id": "j5CYqy2DCJU9"
      },
      "execution_count": null,
      "outputs": []
    },
    {
      "cell_type": "code",
      "source": [
        "with open('500vovochka.txt', encoding='utf-8') as f:\n",
        "    text = f.read()\n",
        "anecs = text.split('* * *')\n",
        "print(len(anecs))\n",
        "anecs2 = []\n",
        "for i in anecs:\n",
        "    anecs2.append(i.strip())\n",
        "newfile = '\\nsep\\n'.join(anecs2)"
      ],
      "metadata": {
        "colab": {
          "base_uri": "https://localhost:8080/"
        },
        "id": "bvgmEtTTC0wU",
        "outputId": "28939c78-b035-4b90-e4de-ef7cd7b7a328"
      },
      "execution_count": null,
      "outputs": [
        {
          "output_type": "stream",
          "name": "stdout",
          "text": [
            "526\n"
          ]
        }
      ]
    },
    {
      "cell_type": "code",
      "source": [
        "with open('all_anecs.txt', 'a', encoding='utf-8') as f:\n",
        "    f.write(newfile)\n",
        "    f.write('\\nsep\\n')"
      ],
      "metadata": {
        "id": "D6OL4a1kC8V3"
      },
      "execution_count": null,
      "outputs": []
    },
    {
      "cell_type": "code",
      "source": [
        "with open('blackpeople.txt', encoding='utf-8') as f:\n",
        "    text = f.read()\n",
        "anecs = text.split('* * *')\n",
        "print(len(anecs))\n",
        "anecs2 = []\n",
        "for i in anecs:\n",
        "    anecs2.append(i.strip())\n",
        "newfile = '\\nsep\\n'.join(anecs2)"
      ],
      "metadata": {
        "colab": {
          "base_uri": "https://localhost:8080/"
        },
        "id": "07x1HNzDC-_P",
        "outputId": "9d6743f8-7394-4ccc-882a-e94b3367ce7f"
      },
      "execution_count": null,
      "outputs": [
        {
          "output_type": "stream",
          "name": "stdout",
          "text": [
            "78\n"
          ]
        }
      ]
    },
    {
      "cell_type": "code",
      "source": [
        "with open('all_anecs.txt', 'a', encoding='utf-8') as f:\n",
        "    f.write(newfile)\n",
        "    f.write('\\nsep\\n')"
      ],
      "metadata": {
        "id": "E4-0skqwDJ-T"
      },
      "execution_count": null,
      "outputs": []
    },
    {
      "cell_type": "code",
      "source": [
        "with open('chapaev.txt', encoding='utf-8') as f:\n",
        "    text = f.read()\n",
        "anecs = text.split('* * *')\n",
        "print(len(anecs))\n",
        "anecs2 = []\n",
        "for i in anecs:\n",
        "    anecs2.append(i.strip())\n",
        "newfile = '\\nsep\\n'.join(anecs2)"
      ],
      "metadata": {
        "colab": {
          "base_uri": "https://localhost:8080/"
        },
        "id": "0Qnpe-AaDMWZ",
        "outputId": "61598a22-ef4f-484e-c229-8d1131dacef0"
      },
      "execution_count": null,
      "outputs": [
        {
          "output_type": "stream",
          "name": "stdout",
          "text": [
            "127\n"
          ]
        }
      ]
    },
    {
      "cell_type": "code",
      "source": [
        "with open('all_anecs.txt', 'a', encoding='utf-8') as f:\n",
        "    f.write(newfile)\n",
        "    f.write('\\nsep\\n')"
      ],
      "metadata": {
        "id": "BMPzVHgdDTvS"
      },
      "execution_count": null,
      "outputs": []
    },
    {
      "cell_type": "code",
      "source": [
        "with open('charachters.txt', encoding='utf-8') as f:\n",
        "    text = f.read()\n",
        "anecs = text.split('* * *')\n",
        "print(len(anecs))\n",
        "anecs2 = []\n",
        "for i in anecs:\n",
        "    anecs2.append(i.strip())\n",
        "newfile = '\\nsep\\n'.join(anecs2)"
      ],
      "metadata": {
        "colab": {
          "base_uri": "https://localhost:8080/"
        },
        "id": "61EWvjZWDZ_V",
        "outputId": "91dcf37f-11a5-4810-b466-ddf1cba936bd"
      },
      "execution_count": null,
      "outputs": [
        {
          "output_type": "stream",
          "name": "stdout",
          "text": [
            "467\n"
          ]
        }
      ]
    },
    {
      "cell_type": "code",
      "source": [
        "with open('all_anecs.txt', 'a', encoding='utf-8') as f:\n",
        "    f.write(newfile)\n",
        "    f.write('\\nsep\\n')"
      ],
      "metadata": {
        "id": "JJ-lHzOMDVsZ"
      },
      "execution_count": null,
      "outputs": []
    },
    {
      "cell_type": "code",
      "source": [
        "with open('nations.txt', encoding='utf-8') as f:\n",
        "    text = f.read()\n",
        "anecs = text.split('* * *')\n",
        "print(len(anecs))\n",
        "anecs2 = []\n",
        "for i in anecs:\n",
        "    anecs2.append(i.strip())\n",
        "newfile = '\\nsep\\n'.join(anecs2)"
      ],
      "metadata": {
        "colab": {
          "base_uri": "https://localhost:8080/"
        },
        "id": "lG7Q0eRfDeyK",
        "outputId": "26a20e54-ad72-4505-8f5f-3bd1e785cd2e"
      },
      "execution_count": null,
      "outputs": [
        {
          "output_type": "stream",
          "name": "stdout",
          "text": [
            "230\n"
          ]
        }
      ]
    },
    {
      "cell_type": "code",
      "source": [
        "with open('all_anecs.txt', 'a', encoding='utf-8') as f:\n",
        "    f.write(newfile)\n",
        "    f.write('\\nsep\\n')"
      ],
      "metadata": {
        "id": "dp2c21bzDpng"
      },
      "execution_count": null,
      "outputs": []
    },
    {
      "cell_type": "code",
      "source": [
        "with open('chukcha.txt', encoding='utf-8') as f:\n",
        "    text = f.read()\n",
        "anecs = text.split('* * *')\n",
        "print(len(anecs))\n",
        "anecs2 = []\n"
      ],
      "metadata": {
        "colab": {
          "base_uri": "https://localhost:8080/"
        },
        "id": "4LO1slseDqxK",
        "outputId": "e4557315-8324-499c-d0de-f36ed5d4a992"
      },
      "execution_count": null,
      "outputs": [
        {
          "output_type": "stream",
          "name": "stdout",
          "text": [
            "490\n"
          ]
        }
      ]
    },
    {
      "cell_type": "code",
      "source": [
        "for i in anecs:\n",
        "    anecs2.append(i.strip())\n",
        "newfile = '\\nsep\\n'.join(anecs2)"
      ],
      "metadata": {
        "id": "LxmgCkcjFh5Z"
      },
      "execution_count": null,
      "outputs": []
    },
    {
      "cell_type": "code",
      "source": [
        "with open('all_anecs.txt', 'a', encoding='utf-8') as f:\n",
        "    f.write(newfile)\n",
        "    f.write('\\nsep\\n')"
      ],
      "metadata": {
        "id": "0o8gWFERFkPh"
      },
      "execution_count": null,
      "outputs": []
    },
    {
      "cell_type": "code",
      "source": [
        "with open('estonian.txt', encoding='utf-8') as f:\n",
        "    text = f.read()\n",
        "anecs = text.split('* * *')\n",
        "print(len(anecs))\n",
        "anecs2 = []\n",
        "for i in anecs:\n",
        "    anecs2.append(i.strip())\n",
        "newfile = '\\nsep\\n'.join(anecs2)"
      ],
      "metadata": {
        "colab": {
          "base_uri": "https://localhost:8080/"
        },
        "id": "ZSxIfAahFlpi",
        "outputId": "1d41f16b-ea35-40b4-d74a-d99047e418bc"
      },
      "execution_count": null,
      "outputs": [
        {
          "output_type": "stream",
          "name": "stdout",
          "text": [
            "96\n"
          ]
        }
      ]
    },
    {
      "cell_type": "code",
      "source": [
        "with open('all_anecs.txt', 'a', encoding='utf-8') as f:\n",
        "    f.write(newfile)\n",
        "    f.write('\\nsep\\n')"
      ],
      "metadata": {
        "id": "lnY04PuVGCph"
      },
      "execution_count": null,
      "outputs": []
    },
    {
      "cell_type": "code",
      "source": [
        "with open('poruchik.txt', encoding='utf-8') as f:\n",
        "    text = f.read()\n",
        "anecs = text.split('* * *')\n",
        "print(len(anecs))\n",
        "anecs2 = []\n",
        "for i in anecs:\n",
        "    anecs2.append(i.strip())\n",
        "newfile = '\\nsep\\n'.join(anecs2)"
      ],
      "metadata": {
        "colab": {
          "base_uri": "https://localhost:8080/"
        },
        "id": "i0Ae0xdMGFOD",
        "outputId": "7dffd307-353b-41da-95a5-422027588710"
      },
      "execution_count": null,
      "outputs": [
        {
          "output_type": "stream",
          "name": "stdout",
          "text": [
            "60\n"
          ]
        }
      ]
    },
    {
      "cell_type": "code",
      "source": [
        "with open('all_anecs.txt', 'a', encoding='utf-8') as f:\n",
        "    f.write(newfile)\n",
        "    f.write('\\nsep\\n')"
      ],
      "metadata": {
        "id": "CFRdz9gBGG4u"
      },
      "execution_count": null,
      "outputs": []
    },
    {
      "cell_type": "code",
      "source": [
        "with open('all_anecs.txt', encoding='utf-8') as f:\n",
        "    text = f.read()"
      ],
      "metadata": {
        "id": "QcJvuN4-GZGl"
      },
      "execution_count": null,
      "outputs": []
    },
    {
      "cell_type": "code",
      "source": [
        "anecs = text.split('sep')\n",
        "len(anecs)"
      ],
      "metadata": {
        "colab": {
          "base_uri": "https://localhost:8080/"
        },
        "id": "A7FygYaAGdUX",
        "outputId": "b2ad4260-a500-4394-c246-775e9348aeb5"
      },
      "execution_count": null,
      "outputs": [
        {
          "output_type": "execute_result",
          "data": {
            "text/plain": [
              "3327"
            ]
          },
          "metadata": {},
          "execution_count": 2
        }
      ]
    },
    {
      "cell_type": "code",
      "source": [
        "!pip install markovify\n",
        "import markovify"
      ],
      "metadata": {
        "colab": {
          "base_uri": "https://localhost:8080/"
        },
        "id": "GF9J73oOL8xY",
        "outputId": "55dfbcb9-582e-42d7-d050-59ecd833a2f6"
      },
      "execution_count": null,
      "outputs": [
        {
          "output_type": "stream",
          "name": "stdout",
          "text": [
            "Collecting markovify\n",
            "  Downloading markovify-0.9.4.tar.gz (27 kB)\n",
            "Collecting unidecode\n",
            "  Downloading Unidecode-1.3.4-py3-none-any.whl (235 kB)\n",
            "\u001b[K     |████████████████████████████████| 235 kB 38.2 MB/s \n",
            "\u001b[?25hBuilding wheels for collected packages: markovify\n",
            "  Building wheel for markovify (setup.py) ... \u001b[?25l\u001b[?25hdone\n",
            "  Created wheel for markovify: filename=markovify-0.9.4-py3-none-any.whl size=18628 sha256=c2a962b0e4640165312b42c8d2e99e80eafa03dfd75e8abd2bfa59bc7a7ca984\n",
            "  Stored in directory: /root/.cache/pip/wheels/36/c5/82/11125c5a7dadec27ef49ac2b3a12d3b1f79ff7333c92a9b67b\n",
            "Successfully built markovify\n",
            "Installing collected packages: unidecode, markovify\n",
            "Successfully installed markovify-0.9.4 unidecode-1.3.4\n"
          ]
        }
      ]
    },
    {
      "cell_type": "code",
      "source": [
        "from nltk.tokenize import sent_tokenize"
      ],
      "metadata": {
        "id": "8u566ru-MXLc"
      },
      "execution_count": null,
      "outputs": []
    },
    {
      "cell_type": "code",
      "source": [
        "with open('all_anecs.txt', encoding='utf-8') as f:\n",
        "    anecs = f.read().split('sep')"
      ],
      "metadata": {
        "id": "9DRRF0eggdz5"
      },
      "execution_count": null,
      "outputs": []
    },
    {
      "cell_type": "code",
      "source": [
        "m = markovify.Text(anecs)"
      ],
      "metadata": {
        "id": "I1E0HHFyL7Lm"
      },
      "execution_count": null,
      "outputs": []
    },
    {
      "cell_type": "code",
      "source": [
        "from random import randint\n",
        "\n",
        "def make_anec():\n",
        "    n = randint(2, 4)\n",
        "    sents = []\n",
        "    for _ in range(n):\n",
        "        sent = m.make_sentence()\n",
        "        if type(sent) == str:\n",
        "            sents.append(sent)\n",
        "    anec = ' '.join(sents)\n",
        "    return anec"
      ],
      "metadata": {
        "id": "pJhgZ2lpico_"
      },
      "execution_count": null,
      "outputs": []
    },
    {
      "cell_type": "code",
      "source": [
        "make_anec()"
      ],
      "metadata": {
        "colab": {
          "base_uri": "https://localhost:8080/",
          "height": 53
        },
        "id": "uRsgvlwakK65",
        "outputId": "327a276a-0579-433b-ffef-1291158b482c"
      },
      "execution_count": null,
      "outputs": [
        {
          "output_type": "execute_result",
          "data": {
            "text/plain": [
              "'— Что-то я не знаю, пап. – А скоро выйдут? – Не знаю, что ты от меня дневник не прячешь? Падая, срывает с головы сорвало берет. Бабушка, что с золотой инкрустацией, зато у нас страна медведев, партия медведев и президентом Медведев!»'"
            ],
            "application/vnd.google.colaboratory.intrinsic+json": {
              "type": "string"
            }
          },
          "metadata": {},
          "execution_count": 23
        }
      ]
    },
    {
      "cell_type": "code",
      "source": [
        "markov_anecs = [make_anec() for _ in range(6000)]\n",
        "with open('markov.txt', 'w', encoding='utf-8') as f:\n",
        "    f.write('\\nsep\\n'.join(markov_anecs))"
      ],
      "metadata": {
        "id": "KkQRzCm8i2A_"
      },
      "execution_count": null,
      "outputs": []
    },
    {
      "cell_type": "code",
      "source": [
        "markov_anecs[]"
      ],
      "metadata": {
        "colab": {
          "base_uri": "https://localhost:8080/"
        },
        "id": "N70XdhFbkt2h",
        "outputId": "70b21244-66b8-42fd-cb41-3550c9c6ad65"
      },
      "execution_count": null,
      "outputs": [
        {
          "output_type": "execute_result",
          "data": {
            "text/plain": [
              "6000"
            ]
          },
          "metadata": {},
          "execution_count": 25
        }
      ]
    },
    {
      "cell_type": "code",
      "source": [
        "snt = m.make_sentence()\n",
        "print(snt)"
      ],
      "metadata": {
        "colab": {
          "base_uri": "https://localhost:8080/"
        },
        "id": "7zA5qKexMzOF",
        "outputId": "d8199682-59b6-4eb1-e02a-432375cf2ab6"
      },
      "execution_count": null,
      "outputs": [
        {
          "output_type": "stream",
          "name": "stdout",
          "text": [
            "Тут одна молоденькая монашка, несмотря на направленные на нее пару минут, после чего изнутри раздается спокойный усталый голос: – Ну, Петров, кто родился – мальчик или девочка?\n"
          ]
        }
      ]
    },
    {
      "cell_type": "code",
      "source": [
        "for i in range(7):\n",
        "    snt = m.make_sentence(max_chars=5000)\n",
        "    print(snt)\n",
        "    print('***')"
      ],
      "metadata": {
        "colab": {
          "base_uri": "https://localhost:8080/"
        },
        "id": "jY8PJuNjM96R",
        "outputId": "ecb06935-5420-4da8-c62a-393fc494a3bc"
      },
      "execution_count": null,
      "outputs": [
        {
          "output_type": "stream",
          "name": "stdout",
          "text": [
            "Проститутка смотрит, а он белый, как сметана К нему все с вопросами: — Ты что, сынок, она же моя мать!\n",
            "***\n",
            "– Это почему же? – Да пошел ты, папуля, у меня детей и не хватало». Урок.\n",
            "***\n",
            "None\n",
            "***\n",
            "Заходит как-то ковбой в бар и замечает у нее предменструальный синдром.\n",
            "***\n",
            "Сидят Петька с помойным ведром.\n",
            "***\n",
            "Инспектор заходит в комнату, подходит к следующему — и дно больно каменистое.\n",
            "***\n",
            "Один ученик отвечает: – А я 80 кило вешу.\n",
            "***\n"
          ]
        }
      ]
    },
    {
      "cell_type": "code",
      "source": [
        "import re"
      ],
      "metadata": {
        "id": "cyFN_V0DqQf0"
      },
      "execution_count": null,
      "outputs": []
    },
    {
      "cell_type": "code",
      "source": [
        "with open('chukotka.txt', encoding='utf-8') as f:\n",
        "    text = f.read()\n",
        "anecs = text.split('* * *')\n",
        "print(len(anecs))\n",
        "anecs2 = []\n",
        "for i in anecs:\n",
        "    anecs2.append(i.strip())\n",
        "newfile = '\\nsep\\n'.join(anecs2)"
      ],
      "metadata": {
        "colab": {
          "base_uri": "https://localhost:8080/"
        },
        "id": "yb_uDTdKqYeX",
        "outputId": "fd2d28d5-032e-4a3c-8d03-37af1fefcfbb"
      },
      "execution_count": null,
      "outputs": [
        {
          "output_type": "stream",
          "name": "stdout",
          "text": [
            "238\n"
          ]
        }
      ]
    },
    {
      "cell_type": "code",
      "source": [
        "anecs2[10]"
      ],
      "metadata": {
        "colab": {
          "base_uri": "https://localhost:8080/",
          "height": 71
        },
        "id": "bappHudHqybd",
        "outputId": "fb44b848-172e-4379-fc6b-e2f804ca1bf9"
      },
      "execution_count": null,
      "outputs": [
        {
          "output_type": "execute_result",
          "data": {
            "application/vnd.google.colaboratory.intrinsic+json": {
              "type": "string"
            },
            "text/plain": [
              "'Чукча идет по улице, на шее у него полотнище намотано, на плече висит огромная бас-труба, а за собой он тянет на веревке двух коров.\\n   —\\xa0Чукча, куда это ты собрался?\\xa0— спрашивает прохожий.\\n   —\\xa0Чукча в баня звали.\\n   —\\xa0А труба и корова тебе зачем?\\n   —\\xa0Мне сказали, в баня пойдем, с телками гудеть.'"
            ]
          },
          "metadata": {},
          "execution_count": 6
        }
      ]
    },
    {
      "cell_type": "code",
      "source": [
        "with open('new_anecs.txt', 'w', encoding='utf-8') as f:\n",
        "    f.write(newfile)\n",
        "    f.write('\\nsep\\n')"
      ],
      "metadata": {
        "id": "MTW97txDqtyv"
      },
      "execution_count": null,
      "outputs": []
    },
    {
      "cell_type": "code",
      "source": [
        "def write1(newfile):\n",
        "    with open('new_anecs.txt', 'a', encoding='utf-8') as f:\n",
        "        f.write(newfile)\n",
        "        f.write('\\nsep\\n')"
      ],
      "metadata": {
        "id": "87i-0nZJr_0e"
      },
      "execution_count": null,
      "outputs": []
    },
    {
      "cell_type": "code",
      "source": [
        "with open('cowboys.txt', encoding='utf-8') as f:\n",
        "    text = f.read()\n",
        "anecs = text.split('***')\n",
        "print(len(anecs))\n",
        "anecs2 = []\n",
        "for i in anecs:\n",
        "    anecs2.append(i.strip())\n",
        "newfile = '\\nsep\\n'.join(anecs2)"
      ],
      "metadata": {
        "colab": {
          "base_uri": "https://localhost:8080/"
        },
        "id": "BeuSawN2sbVS",
        "outputId": "31784a5c-48ab-4b0e-bf90-395cbb1852ce"
      },
      "execution_count": null,
      "outputs": [
        {
          "output_type": "stream",
          "name": "stdout",
          "text": [
            "82\n"
          ]
        }
      ]
    },
    {
      "cell_type": "code",
      "source": [
        "write1(newfile)"
      ],
      "metadata": {
        "id": "4gvTvslUsneo"
      },
      "execution_count": null,
      "outputs": []
    },
    {
      "cell_type": "code",
      "source": [
        "with open('deti.txt', encoding='utf-8') as f:\n",
        "    text = f.read()\n",
        "anecs = text.split('* * *')\n",
        "print(len(anecs))\n",
        "anecs2 = []\n",
        "for i in anecs:\n",
        "    anecs2.append(i.strip())\n",
        "newfile = '\\nsep\\n'.join(anecs2)"
      ],
      "metadata": {
        "colab": {
          "base_uri": "https://localhost:8080/"
        },
        "id": "-1A31Bl_sq2x",
        "outputId": "b8a1ab94-ebcf-47e9-fcde-6fe89ca75f78"
      },
      "execution_count": null,
      "outputs": [
        {
          "output_type": "stream",
          "name": "stdout",
          "text": [
            "1561\n"
          ]
        }
      ]
    },
    {
      "cell_type": "code",
      "source": [
        "with open('jews.txt', encoding='utf-8') as f:\n",
        "    text = f.read()\n",
        "anecs = text.split('* * *')\n",
        "print(len(anecs))\n",
        "anecs2 = []\n",
        "for i in anecs:\n",
        "    anecs2.append(i.strip())\n",
        "newfile = '\\nsep\\n'.join(anecs2)"
      ],
      "metadata": {
        "colab": {
          "base_uri": "https://localhost:8080/"
        },
        "id": "ZSYpV03us1sI",
        "outputId": "dc3ccb7f-789f-42f2-f4bf-72d162271aa1"
      },
      "execution_count": null,
      "outputs": [
        {
          "output_type": "stream",
          "name": "stdout",
          "text": [
            "294\n"
          ]
        }
      ]
    },
    {
      "cell_type": "code",
      "source": [
        "with open('nlo.txt', encoding='utf-8') as f:\n",
        "    text = f.read()\n",
        "anecs = text.split('***')\n",
        "print(len(anecs))\n",
        "anecs2 = []\n",
        "for i in anecs:\n",
        "    anecs2.append(i.strip())\n",
        "newfile = '\\nsep\\n'.join(anecs2)"
      ],
      "metadata": {
        "colab": {
          "base_uri": "https://localhost:8080/"
        },
        "id": "PCcaTp89s-tF",
        "outputId": "d294c7b4-3a7b-488e-f24b-a9f04cd78fb3"
      },
      "execution_count": null,
      "outputs": [
        {
          "output_type": "stream",
          "name": "stdout",
          "text": [
            "259\n"
          ]
        }
      ]
    }
  ]
}